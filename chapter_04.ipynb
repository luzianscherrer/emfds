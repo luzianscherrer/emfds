{
 "cells": [
  {
   "cell_type": "markdown",
   "metadata": {},
   "source": [
    "# Chapter 4 - Exercises"
   ]
  },
  {
   "cell_type": "markdown",
   "metadata": {},
   "source": [
    "## 1."
   ]
  },
  {
   "cell_type": "code",
   "execution_count": 1,
   "metadata": {},
   "outputs": [
    {
     "name": "stdout",
     "output_type": "stream",
     "text": [
      "[2. 3.]\n"
     ]
    }
   ],
   "source": [
    "import numpy as np\n",
    "\n",
    "v = np.array([ 1,\n",
    "               2 ])\n",
    "\n",
    "m = np.array([[ 2,   0 ],\n",
    "              [ 0, 1.5 ]])\n",
    "\n",
    "print(m @ v)"
   ]
  },
  {
   "cell_type": "markdown",
   "metadata": {},
   "source": [
    "## 2."
   ]
  },
  {
   "cell_type": "code",
   "execution_count": 2,
   "metadata": {},
   "outputs": [
    {
     "name": "stdout",
     "output_type": "stream",
     "text": [
      "[ 0 -3]\n"
     ]
    }
   ],
   "source": [
    "m = np.array([[ -2,  1 ],\n",
    "              [  1, -2 ]])\n",
    "\n",
    "print(m @ v)"
   ]
  },
  {
   "cell_type": "markdown",
   "metadata": {},
   "source": [
    "## 3."
   ]
  },
  {
   "cell_type": "code",
   "execution_count": 3,
   "metadata": {},
   "outputs": [
    {
     "name": "stdout",
     "output_type": "stream",
     "text": [
      "2.0\n"
     ]
    }
   ],
   "source": [
    "m = np.array([[ 1, 2 ],\n",
    "              [ 0, 2 ]])\n",
    "\n",
    "print(np.linalg.det(m))"
   ]
  },
  {
   "cell_type": "markdown",
   "metadata": {},
   "source": [
    "## 4."
   ]
  },
  {
   "cell_type": "markdown",
   "metadata": {},
   "source": [
    "Yes, by combining the individual transformations into one single matrix using matrix multiplication:"
   ]
  },
  {
   "cell_type": "code",
   "execution_count": 4,
   "metadata": {},
   "outputs": [
    {
     "name": "stdout",
     "output_type": "stream",
     "text": [
      "[-1 -5] equals [-1 -5]\n"
     ]
    }
   ],
   "source": [
    "# pi/2 clockwise rotation\n",
    "rot90 = np.array([[  0, 1 ],\n",
    "                  [ -1, 0 ]])\n",
    "\n",
    "v = np.array([ 1,\n",
    "               5 ])\n",
    "\n",
    "rot180 = rot90 @ rot90\n",
    "\n",
    "print(f\"{rot90 @ rot90 @ v} equals {rot180 @ v}\")\n"
   ]
  },
  {
   "cell_type": "markdown",
   "metadata": {},
   "source": [
    "## 5."
   ]
  },
  {
   "cell_type": "markdown",
   "metadata": {},
   "source": [
    "Using NumPy and the inverse matrix:"
   ]
  },
  {
   "cell_type": "code",
   "execution_count": 5,
   "metadata": {},
   "outputs": [
    {
     "name": "stdout",
     "output_type": "stream",
     "text": [
      "[19.8 -5.4 -6. ]\n"
     ]
    }
   ],
   "source": [
    "a = np.array([[ 3, 1, 0],\n",
    "              [ 2, 4, 1], \n",
    "              [ 3, 1, 8]])\n",
    "\n",
    "v = np.array([ 54,\n",
    "               12, \n",
    "                6 ])\n",
    "\n",
    "\n",
    "print(np.linalg.inv(a) @ v)"
   ]
  },
  {
   "cell_type": "markdown",
   "metadata": {},
   "source": [
    "Using SymPy and the reduced row echelon form:"
   ]
  },
  {
   "cell_type": "code",
   "execution_count": 6,
   "metadata": {},
   "outputs": [
    {
     "name": "stdout",
     "output_type": "stream",
     "text": [
      "Matrix([[99/5], [-27/5], [-6]])\n",
      "Matrix([[19.8000000000000], [-5.40000000000000], [-6.00000000000000]])\n"
     ]
    }
   ],
   "source": [
    "from sympy import *\n",
    "\n",
    "m = Matrix([[ 3, 1, 0, 54],\n",
    "            [ 2, 4, 1, 12], \n",
    "            [ 3, 1, 8,  6]])\n",
    "\n",
    "print(m.rref()[0].col(-1))\n",
    "print(N(m.rref()[0].col(-1)))"
   ]
  },
  {
   "cell_type": "markdown",
   "metadata": {},
   "source": [
    "## 6."
   ]
  },
  {
   "cell_type": "code",
   "execution_count": 7,
   "metadata": {},
   "outputs": [
    {
     "name": "stdout",
     "output_type": "stream",
     "text": [
      "Linearly dependent\n"
     ]
    }
   ],
   "source": [
    "m = np.array([[ 2, 1 ],\n",
    "              [ 6, 3 ]])\n",
    "\n",
    "print(\"Linearly dependent\") if np.linalg.det(m) == 0 else print(\"Not linearly dependent\")"
   ]
  }
 ],
 "metadata": {
  "kernelspec": {
   "display_name": "Python 3",
   "language": "python",
   "name": "python3"
  },
  "language_info": {
   "codemirror_mode": {
    "name": "ipython",
    "version": 3
   },
   "file_extension": ".py",
   "mimetype": "text/x-python",
   "name": "python",
   "nbconvert_exporter": "python",
   "pygments_lexer": "ipython3",
   "version": "3.9.6"
  },
  "orig_nbformat": 4
 },
 "nbformat": 4,
 "nbformat_minor": 2
}
