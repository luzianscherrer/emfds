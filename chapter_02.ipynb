{
 "cells": [
  {
   "cell_type": "markdown",
   "metadata": {},
   "source": [
    "# Chapter 2 - Exercises"
   ]
  },
  {
   "cell_type": "markdown",
   "metadata": {},
   "source": [
    "## 1."
   ]
  },
  {
   "cell_type": "code",
   "execution_count": 85,
   "metadata": {},
   "outputs": [
    {
     "name": "stdout",
     "output_type": "stream",
     "text": [
      "p = 0.12\n"
     ]
    }
   ],
   "source": [
    "p_rain = 0.3\n",
    "p_umbrella = 0.4\n",
    "\n",
    "print(f\"p = {p_rain * p_umbrella:.2f}\")"
   ]
  },
  {
   "cell_type": "markdown",
   "metadata": {},
   "source": [
    "## 2."
   ]
  },
  {
   "cell_type": "code",
   "execution_count": 86,
   "metadata": {},
   "outputs": [
    {
     "name": "stdout",
     "output_type": "stream",
     "text": [
      "p = 0.98\n"
     ]
    }
   ],
   "source": [
    "print(f\"p = {(1-p_rain) + p_umbrella - (p_rain*p_umbrella):.2f}\")"
   ]
  },
  {
   "cell_type": "markdown",
   "metadata": {},
   "source": [
    "## 3."
   ]
  },
  {
   "cell_type": "code",
   "execution_count": 87,
   "metadata": {},
   "outputs": [
    {
     "name": "stdout",
     "output_type": "stream",
     "text": [
      "p = 0.06\n"
     ]
    }
   ],
   "source": [
    "p_umbrella_when_rain = 0.2\n",
    "\n",
    "print(f\"p = {p_rain * p_umbrella_when_rain:.2f}\")"
   ]
  },
  {
   "cell_type": "markdown",
   "metadata": {},
   "source": [
    "## 4."
   ]
  },
  {
   "cell_type": "code",
   "execution_count": 88,
   "metadata": {},
   "outputs": [
    {
     "name": "stdout",
     "output_type": "stream",
     "text": [
      "p = 0.82\n"
     ]
    }
   ],
   "source": [
    "from scipy import stats\n",
    "\n",
    "passengers = 137\n",
    "p_show = 1-0.4\n",
    "\n",
    "print(f\"p = {stats.binom.cdf(passengers-50, passengers, p_show):.2f}\")\n",
    "\n"
   ]
  },
  {
   "cell_type": "markdown",
   "metadata": {},
   "source": [
    "## 5."
   ]
  },
  {
   "cell_type": "code",
   "execution_count": 92,
   "metadata": {},
   "outputs": [
    {
     "name": "stdout",
     "output_type": "stream",
     "text": [
      "Chance of having 15 or more heads in 19 tries: p = 0.00221\n",
      "Chance of a coin being fair (p=0.5) with the outcome of 15 heads and 4 tails: p <= 0.00377\n"
     ]
    }
   ],
   "source": [
    "heads = 15\n",
    "tails = 4\n",
    "\n",
    "print(f\"Chance of having {heads} or more heads in {heads+tails} tries: p = {1-stats.binom.cdf(heads, heads+tails, 0.5):.5f}\")\n",
    "\n",
    "print(f\"Chance of a coin being fair (p=0.5) with the outcome of {heads} heads and {tails} tails: p <= {stats.beta.cdf(0.5, heads, tails):.5f}\")"
   ]
  }
 ],
 "metadata": {
  "kernelspec": {
   "display_name": "Python 3",
   "language": "python",
   "name": "python3"
  },
  "language_info": {
   "codemirror_mode": {
    "name": "ipython",
    "version": 3
   },
   "file_extension": ".py",
   "mimetype": "text/x-python",
   "name": "python",
   "nbconvert_exporter": "python",
   "pygments_lexer": "ipython3",
   "version": "3.9.6"
  },
  "orig_nbformat": 4
 },
 "nbformat": 4,
 "nbformat_minor": 2
}
