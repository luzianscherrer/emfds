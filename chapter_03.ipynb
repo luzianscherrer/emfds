{
 "cells": [
  {
   "cell_type": "markdown",
   "metadata": {},
   "source": [
    "# Chapter 2 - Exercises"
   ]
  },
  {
   "cell_type": "markdown",
   "metadata": {},
   "source": [
    "## 1."
   ]
  },
  {
   "cell_type": "code",
   "execution_count": 16,
   "metadata": {},
   "outputs": [
    {
     "name": "stdout",
     "output_type": "stream",
     "text": [
      "Mean: 1.752\n",
      "Standard deviation: 0.02135415650406264\n"
     ]
    }
   ],
   "source": [
    "import math\n",
    "\n",
    "measurements = [1.78, 1.75, 1.72, 1.74, 1.77]\n",
    "\n",
    "mean = sum(measurements)/len(measurements)\n",
    "print(f\"Mean: {mean}\")\n",
    "\n",
    "stddev = math.sqrt(sum([(i-mean)**2 for i in measurements])/len(measurements))\n",
    "print(f\"Standard deviation: {stddev}\")"
   ]
  },
  {
   "cell_type": "markdown",
   "metadata": {},
   "source": [
    "## 2."
   ]
  },
  {
   "cell_type": "code",
   "execution_count": 17,
   "metadata": {},
   "outputs": [
    {
     "name": "stdout",
     "output_type": "stream",
     "text": [
      "Probability to last between 20 and 30 months: p = 0.06382743803380352\n"
     ]
    }
   ],
   "source": [
    "from scipy import stats\n",
    "\n",
    "mean = 42\n",
    "stddev = 8\n",
    "range = [20, 30]\n",
    "\n",
    "prob = stats.norm.cdf(range[1], mean, stddev) - stats.norm.cdf(range[0], mean, stddev)\n",
    "print(f\"Probability to last between {range[0]} and {range[1]} months: p = {prob}\")"
   ]
  },
  {
   "cell_type": "markdown",
   "metadata": {},
   "source": [
    "## 3."
   ]
  },
  {
   "cell_type": "code",
   "execution_count": 73,
   "metadata": {},
   "outputs": [
    {
     "name": "stdout",
     "output_type": "stream",
     "text": [
      "Confidence interval of 99.0%: [1.7026658973748656, 1.7285101026251342]\n"
     ]
    }
   ],
   "source": [
    "samples = 34\n",
    "mean = 1.715588\n",
    "stddev = 0.029252\n",
    "\n",
    "confidence = 0.99\n",
    "\n",
    "bound = stats.norm.ppf(confidence + (1-confidence)/2)\n",
    "offset = bound * (stddev/math.sqrt(samples))\n",
    "\n",
    "print(f\"Confidence interval of {confidence*100}%: [{mean-offset}, {mean+offset}]\")"
   ]
  },
  {
   "cell_type": "markdown",
   "metadata": {},
   "source": [
    "## 4."
   ]
  },
  {
   "cell_type": "code",
   "execution_count": 104,
   "metadata": {},
   "outputs": [
    {
     "name": "stdout",
     "output_type": "stream",
     "text": [
      "Assuming a new mean outside the 95% expectancy range to be statistically relevant, the change indeed did affect sales\n"
     ]
    }
   ],
   "source": [
    "mean = 10345\n",
    "stddev = 552\n",
    "\n",
    "test_mean = 11641\n",
    "relevance = 0.05\n",
    "\n",
    "lower = stats.norm.ppf(relevance/2, mean, stddev)\n",
    "upper = stats.norm.ppf(1-relevance/2, mean, stddev)\n",
    "\n",
    "print(f\"Assuming a new mean outside the {(1-relevance)*100:.0f}% expectancy range to be statistically relevant, the change \", end=\"\")\n",
    "if test_mean < lower or test_mean > upper:\n",
    "    print(f\"indeed did affect sales\")\n",
    "else:\n",
    "    print(f\"did not affect sales\")"
   ]
  }
 ],
 "metadata": {
  "kernelspec": {
   "display_name": "Python 3",
   "language": "python",
   "name": "python3"
  },
  "language_info": {
   "codemirror_mode": {
    "name": "ipython",
    "version": 3
   },
   "file_extension": ".py",
   "mimetype": "text/x-python",
   "name": "python",
   "nbconvert_exporter": "python",
   "pygments_lexer": "ipython3",
   "version": "3.9.6"
  },
  "orig_nbformat": 4
 },
 "nbformat": 4,
 "nbformat_minor": 2
}
