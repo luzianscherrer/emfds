{
 "cells": [
  {
   "cell_type": "markdown",
   "metadata": {},
   "source": [
    "# Chapter 1 - Exercises"
   ]
  },
  {
   "cell_type": "markdown",
   "metadata": {},
   "source": [
    "## 1."
   ]
  },
  {
   "cell_type": "markdown",
   "metadata": {},
   "source": [
    "$62.6738 = \\frac{62.6738 \\times 10^4}{10^4} = \\frac{626738}{10000} \\in \\mathbb Q$"
   ]
  },
  {
   "cell_type": "code",
   "execution_count": 221,
   "metadata": {},
   "outputs": [
    {
     "data": {
      "text/plain": [
       "62.6738"
      ]
     },
     "execution_count": 221,
     "metadata": {},
     "output_type": "execute_result"
    }
   ],
   "source": [
    "(62.6738 * 10**4) / 10**4"
   ]
  },
  {
   "cell_type": "markdown",
   "metadata": {},
   "source": [
    "## 2."
   ]
  },
  {
   "cell_type": "markdown",
   "metadata": {},
   "source": [
    "$10^7 \\times 10^{-5} = 10^{(7-5)} = 10^2 = 100$"
   ]
  },
  {
   "cell_type": "code",
   "execution_count": 222,
   "metadata": {},
   "outputs": [
    {
     "data": {
      "text/plain": [
       "100.00000000000001"
      ]
     },
     "execution_count": 222,
     "metadata": {},
     "output_type": "execute_result"
    }
   ],
   "source": [
    "10**7 * 10**-5"
   ]
  },
  {
   "cell_type": "markdown",
   "metadata": {},
   "source": [
    "## 3."
   ]
  },
  {
   "cell_type": "markdown",
   "metadata": {},
   "source": [
    "$81^{\\frac{1}{2}} = \\sqrt{81} = 9$"
   ]
  },
  {
   "cell_type": "code",
   "execution_count": 223,
   "metadata": {},
   "outputs": [
    {
     "data": {
      "text/plain": [
       "9.0"
      ]
     },
     "execution_count": 223,
     "metadata": {},
     "output_type": "execute_result"
    }
   ],
   "source": [
    "81**(1/2)"
   ]
  },
  {
   "cell_type": "markdown",
   "metadata": {},
   "source": [
    "## 4."
   ]
  },
  {
   "cell_type": "markdown",
   "metadata": {},
   "source": [
    "$25^{\\frac{3}{2}} = \\sqrt{25}^{3} = 125$"
   ]
  },
  {
   "cell_type": "code",
   "execution_count": 224,
   "metadata": {},
   "outputs": [
    {
     "data": {
      "text/plain": [
       "125.0"
      ]
     },
     "execution_count": 224,
     "metadata": {},
     "output_type": "execute_result"
    }
   ],
   "source": [
    "25**(3/2)"
   ]
  },
  {
   "cell_type": "markdown",
   "metadata": {},
   "source": [
    "## 5."
   ]
  },
  {
   "cell_type": "markdown",
   "metadata": {},
   "source": [
    "$loan \\times (1+\\frac{interest}{compound\\_per\\_year})^{compound\\_per\\_year \\times years}$"
   ]
  },
  {
   "cell_type": "code",
   "execution_count": 225,
   "metadata": {},
   "outputs": [
    {
     "name": "stdout",
     "output_type": "stream",
     "text": [
      "Compound once per year: 1157.63\n",
      "Compound 12 times per year: 1161.47\n"
     ]
    }
   ],
   "source": [
    "loan = 1000\n",
    "interest = 0.05\n",
    "years = 3\n",
    "compound_per_year = 12\n",
    "\n",
    "print(f\"Compound once per year: {loan * (1+interest)**(years):.2f}\")\n",
    "print(f\"Compound {compound_per_year} times per year: {loan * (1+interest/compound_per_year)**(compound_per_year*years):.2f}\")"
   ]
  },
  {
   "cell_type": "markdown",
   "metadata": {},
   "source": [
    "## 6."
   ]
  },
  {
   "cell_type": "markdown",
   "metadata": {},
   "source": [
    "$loan \\times {\\rm e}^{(years \\times interest)}$"
   ]
  },
  {
   "cell_type": "code",
   "execution_count": 226,
   "metadata": {},
   "outputs": [
    {
     "name": "stdout",
     "output_type": "stream",
     "text": [
      "Compound continuously: 1161.83\n"
     ]
    }
   ],
   "source": [
    "import math\n",
    "\n",
    "print(f\"Compound continuously: {1000 * math.exp(years*interest):.2f}\")"
   ]
  },
  {
   "cell_type": "markdown",
   "metadata": {},
   "source": [
    "## 7."
   ]
  },
  {
   "cell_type": "code",
   "execution_count": 227,
   "metadata": {},
   "outputs": [
    {
     "name": "stdout",
     "output_type": "stream",
     "text": [
      "f'(x) = 6*x\n",
      "f'(3) = 18\n"
     ]
    },
    {
     "data": {
      "image/png": "[encoded data removed]",
      "text/plain": [
       "<Figure size 640x480 with 1 Axes>"
      ]
     },
     "metadata": {},
     "output_type": "display_data"
    }
   ],
   "source": [
    "from sympy import *\n",
    "import matplotlib.pyplot as plt\n",
    "import numpy as np\n",
    "\n",
    "x = symbols('x')\n",
    "\n",
    "f = 3*x**2+1\n",
    "\n",
    "print(f\"f'(x) = {diff(f, x)}\")\n",
    "print(f\"f'(3) = {diff(f, x).evalf(subs={x: 3}):.0f}\")\n",
    "\n",
    "def fnc(x):\n",
    "    return 3*x**2+1\n",
    "\n",
    "def fncdiff(x):\n",
    "    return 6*x\n",
    "\n",
    "x1 = np.linspace(-5, 5, 1000)\n",
    "y1 = fnc(x1)\n",
    "y2 = fncdiff(x1)\n",
    "\n",
    "fig, ax = plt.subplots()\n",
    "ax.grid(True, which=\"both\")\n",
    "ax.plot(x1, y1, label=r\"$f(x) = 3x^2+1$\")\n",
    "ax.plot(x1, y2, label=r\"$f'(x) = 6x$\")\n",
    "ax.spines[[\"top\", \"right\"]].set_visible(False)\n",
    "ax.axis([-3,3,-3,20])\n",
    "\n",
    "plt.legend()\n",
    "plt.show()"
   ]
  },
  {
   "cell_type": "markdown",
   "metadata": {},
   "source": [
    "## 8."
   ]
  },
  {
   "cell_type": "code",
   "execution_count": 228,
   "metadata": {},
   "outputs": [
    {
     "name": "stdout",
     "output_type": "stream",
     "text": [
      "F(x) = x**3 + x\n",
      "F(2)-F(0) = 10\n"
     ]
    },
    {
     "data": {
      "image/png": "[encoded data removed]",
      "text/plain": [
       "<Figure size 640x480 with 1 Axes>"
      ]
     },
     "metadata": {},
     "output_type": "display_data"
    }
   ],
   "source": [
    "print(f\"F(x) = {integrate(f)}\")\n",
    "print(f\"F(2)-F(0) = {integrate(f, (x, 0, 2))}\")\n",
    "\n",
    "from matplotlib.patches import Polygon\n",
    "\n",
    "fig, ax = plt.subplots()\n",
    "ax.grid(True, which=\"both\")\n",
    "ax.plot(x1, y1, label=r\"$f(x) = 3x^2+1$\")\n",
    "ax.spines[[\"top\", \"right\"]].set_visible(False)\n",
    "ax.axis([-3,3,-3,20])\n",
    "\n",
    "a = 0\n",
    "b = 2\n",
    "ix = np.linspace(a, b)\n",
    "iy = fnc(ix)\n",
    "verts = [(a, 0), *zip(ix, iy), (b, 0)]\n",
    "poly = Polygon(verts, facecolor='0.9', edgecolor='0.5', label=r\"$\\int_0^2 f(x)\\mathrm{d}x$\")\n",
    "ax.add_patch(poly)\n",
    "\n",
    "plt.legend()\n",
    "plt.show()"
   ]
  }
 ],
 "metadata": {
  "kernelspec": {
   "display_name": "Python 3",
   "language": "python",
   "name": "python3"
  },
  "language_info": {
   "codemirror_mode": {
    "name": "ipython",
    "version": 3
   },
   "file_extension": ".py",
   "mimetype": "text/x-python",
   "name": "python",
   "nbconvert_exporter": "python",
   "pygments_lexer": "ipython3",
   "version": "3.9.6"
  },
  "orig_nbformat": 4
 },
 "nbformat": 4,
 "nbformat_minor": 2
}
