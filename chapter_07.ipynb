{
 "cells": [
  {
   "cell_type": "markdown",
   "metadata": {},
   "source": [
    "# Chapter 7 - Exercises"
   ]
  },
  {
   "cell_type": "markdown",
   "metadata": {},
   "source": [
    "## 1."
   ]
  },
  {
   "cell_type": "code",
   "execution_count": 185,
   "metadata": {},
   "outputs": [
    {
     "data": {
      "text/html": [
       "<div>\n",
       "<style scoped>\n",
       "    .dataframe tbody tr th:only-of-type {\n",
       "        vertical-align: middle;\n",
       "    }\n",
       "\n",
       "    .dataframe tbody tr th {\n",
       "        vertical-align: top;\n",
       "    }\n",
       "\n",
       "    .dataframe thead th {\n",
       "        text-align: right;\n",
       "    }\n",
       "</style>\n",
       "<table border=\"1\" class=\"dataframe\">\n",
       "  <thead>\n",
       "    <tr style=\"text-align: right;\">\n",
       "      <th></th>\n",
       "      <th>SEX</th>\n",
       "      <th>AGE</th>\n",
       "      <th>PROMOTIONS</th>\n",
       "      <th>YEARS_EMPLOYED</th>\n",
       "      <th>DID_QUIT</th>\n",
       "    </tr>\n",
       "  </thead>\n",
       "  <tbody>\n",
       "    <tr>\n",
       "      <th>0</th>\n",
       "      <td>0</td>\n",
       "      <td>25</td>\n",
       "      <td>2</td>\n",
       "      <td>3</td>\n",
       "      <td>0</td>\n",
       "    </tr>\n",
       "    <tr>\n",
       "      <th>1</th>\n",
       "      <td>0</td>\n",
       "      <td>30</td>\n",
       "      <td>2</td>\n",
       "      <td>3</td>\n",
       "      <td>0</td>\n",
       "    </tr>\n",
       "    <tr>\n",
       "      <th>2</th>\n",
       "      <td>0</td>\n",
       "      <td>26</td>\n",
       "      <td>2</td>\n",
       "      <td>3</td>\n",
       "      <td>0</td>\n",
       "    </tr>\n",
       "    <tr>\n",
       "      <th>3</th>\n",
       "      <td>0</td>\n",
       "      <td>25</td>\n",
       "      <td>1</td>\n",
       "      <td>2</td>\n",
       "      <td>0</td>\n",
       "    </tr>\n",
       "    <tr>\n",
       "      <th>4</th>\n",
       "      <td>0</td>\n",
       "      <td>28</td>\n",
       "      <td>1</td>\n",
       "      <td>2</td>\n",
       "      <td>0</td>\n",
       "    </tr>\n",
       "  </tbody>\n",
       "</table>\n",
       "</div>"
      ],
      "text/plain": [
       "   SEX  AGE  PROMOTIONS  YEARS_EMPLOYED  DID_QUIT\n",
       "0    0   25           2               3         0\n",
       "1    0   30           2               3         0\n",
       "2    0   26           2               3         0\n",
       "3    0   25           1               2         0\n",
       "4    0   28           1               2         0"
      ]
     },
     "execution_count": 185,
     "metadata": {},
     "output_type": "execute_result"
    }
   ],
   "source": [
    "import pandas as pd\n",
    "import torch\n",
    "import torch.nn as nn\n",
    "\n",
    "df = pd.read_csv('chapter_07.csv')\n",
    "df.head()"
   ]
  },
  {
   "cell_type": "code",
   "execution_count": 186,
   "metadata": {},
   "outputs": [
    {
     "name": "stdout",
     "output_type": "stream",
     "text": [
      "Epoch 10/200, loss: 0.4351\n",
      "Epoch 20/200, loss: 0.1675\n",
      "Epoch 30/200, loss: 3.4021\n",
      "Epoch 40/200, loss: 18.0052\n",
      "Epoch 50/200, loss: 5.5954\n",
      "Epoch 60/200, loss: 0.5053\n",
      "Epoch 70/200, loss: 2.4546\n",
      "Epoch 80/200, loss: 3.1795\n",
      "Epoch 90/200, loss: 0.1796\n",
      "Epoch 100/200, loss: 4.1102\n",
      "Epoch 110/200, loss: 0.0302\n",
      "Epoch 120/200, loss: 2.8424\n",
      "Epoch 130/200, loss: 3.1587\n",
      "Epoch 140/200, loss: 0.4914\n",
      "Epoch 150/200, loss: 0.0000\n",
      "Epoch 160/200, loss: 2.1086\n",
      "Epoch 170/200, loss: 1.2760\n",
      "Epoch 180/200, loss: 0.0000\n",
      "Epoch 190/200, loss: 0.4703\n",
      "Epoch 200/200, loss: 0.8091\n"
     ]
    }
   ],
   "source": [
    "batch_size = 10\n",
    "learning_rate = 0.001\n",
    "input_size = 4\n",
    "hidden_size = 500\n",
    "num_classes = 2\n",
    "num_epochs = 200\n",
    "\n",
    "target = torch.tensor(df['DID_QUIT'].values)\n",
    "features = torch.tensor(df.drop('DID_QUIT', axis = 1).values, dtype=torch.float32)\n",
    "train_dataset = torch.utils.data.TensorDataset(features, target)\n",
    "test_dataset = torch.utils.data.TensorDataset(features, target)\n",
    "train_loader = torch.utils.data.DataLoader(train_dataset, batch_size=batch_size, shuffle=True)\n",
    "test_loader = torch.utils.data.DataLoader(test_dataset, batch_size=batch_size, shuffle=False)\n",
    "\n",
    "class NeuralNet(nn.Module):\n",
    "\n",
    "    def __init__(self, input_size, hidden_size, num_classes):\n",
    "\n",
    "        super(NeuralNet, self).__init__()\n",
    "\n",
    "        self.l1 = nn.Linear(input_size, hidden_size) \n",
    "        self.relu = nn.ReLU()\n",
    "        self.l2 = nn.Linear(hidden_size, num_classes)  \n",
    "\n",
    "    def forward(self, input):\n",
    "\n",
    "        output = self.l1(input)\n",
    "        output = self.relu(output)\n",
    "        output = self.l2(output)\n",
    "\n",
    "        return output\n",
    "\n",
    "model = NeuralNet(input_size, hidden_size, num_classes)\n",
    "\n",
    "criterion = nn.CrossEntropyLoss()\n",
    "optimizer = torch.optim.SGD(model.parameters(), lr=learning_rate)\n",
    "\n",
    "for epoch in range(num_epochs):\n",
    "    for i, (features, targets) in enumerate(train_loader):\n",
    "        outputs = model(features)\n",
    "        loss = criterion(outputs, targets)\n",
    "        loss.backward()\n",
    "        optimizer.step()\n",
    "        optimizer.zero_grad()\n",
    "\n",
    "    if (epoch+1) % 10 == 0:\n",
    "        print(f\"Epoch {epoch+1}/{num_epochs}, loss: {loss.item():.4f}\")\n"
   ]
  },
  {
   "cell_type": "code",
   "execution_count": 187,
   "metadata": {},
   "outputs": [
    {
     "name": "stdout",
     "output_type": "stream",
     "text": [
      "Network accuracy: 72.2222%\n"
     ]
    }
   ],
   "source": [
    "with torch.no_grad():\n",
    "    n_correct = 0\n",
    "    n_samples = len(test_loader.dataset)\n",
    "\n",
    "    for features, targets in test_loader:\n",
    "        outputs = model(features)\n",
    "        _, predicted = torch.max(outputs, 1)\n",
    "        n_correct += (predicted == targets).sum().item()\n",
    "\n",
    "    print(f\"Network accuracy: {100*n_correct/n_samples:.4f}%\")"
   ]
  }
 ],
 "metadata": {
  "kernelspec": {
   "display_name": "Python 3",
   "language": "python",
   "name": "python3"
  },
  "language_info": {
   "codemirror_mode": {
    "name": "ipython",
    "version": 3
   },
   "file_extension": ".py",
   "mimetype": "text/x-python",
   "name": "python",
   "nbconvert_exporter": "python",
   "pygments_lexer": "ipython3",
   "version": "3.9.6"
  },
  "orig_nbformat": 4
 },
 "nbformat": 4,
 "nbformat_minor": 2
}
